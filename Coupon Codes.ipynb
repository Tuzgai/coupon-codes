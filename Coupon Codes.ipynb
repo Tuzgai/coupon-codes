{
 "cells": [
  {
   "cell_type": "markdown",
   "metadata": {},
   "source": [
    "# Coupon Code Generator\n",
    "\n",
    "We're implementing a coupon code redemption system at work. Since I was in a hurry I purchased a block of codes from a commecial service, but I thought recreating it would be a fun programming exercise."
   ]
  },
  {
   "cell_type": "code",
   "execution_count": 1,
   "metadata": {
    "scrolled": true
   },
   "outputs": [
    {
     "name": "stdout",
     "output_type": "stream",
     "text": [
      "Qw8F-1*oE-zCY9C-1234\n"
     ]
    }
   ],
   "source": [
    "import string\n",
    "import random\n",
    "import pandas as pd\n",
    "import re\n",
    "\n",
    "def generate(pattern, disallow='O0ILil'):\n",
    "    '''\n",
    "    Generate a coupon code based on a given pattern.\n",
    "    Pattern is generated character-by-character so we can\n",
    "    extend the pattern options fairly easily.\n",
    "    X = Uppercase (A, B, C, ...)\n",
    "    x = Lowercase (a, b, c, ...)\n",
    "    9 = Digits (0, 1, 2, ...)\n",
    "    A = Uppercase + Digits (A, B, .. + 0, 1 ..)\n",
    "    a = Lowercase + Digits (a, b, .. + 0, 1 ..)\n",
    "    # = Special characters (@, #, $, %, ^, &, *)\n",
    "    v = Vowels (a, e, i, ...)\n",
    "    V = Uppercase Voels (A, E, I, ...)\n",
    "    c = Consonants (b, c, d, ...)\n",
    "    C = Uppercase Consonants (B, C, D, ...)\n",
    "    ? = Random from all characters above\n",
    "    - = - \n",
    "    / = Escape character \n",
    "    Any character not on this list will be used as-is\n",
    "    '''\n",
    "    uppercase = string.ascii_uppercase\n",
    "    lowercase = string.ascii_lowercase\n",
    "    digits = ''.join(map(str, [i for i in range(10)]))\n",
    "    upperdigits = uppercase + digits\n",
    "    lowerdigits = lowercase + digits\n",
    "    special = '@#$%^&*'\n",
    "    vowels = 'aeiou'\n",
    "    uppervowels = 'AEIOU'\n",
    "    consonants = 'bcdfghjklmnpqrstvwxz'\n",
    "    upperconsonants = 'BCDFGHJKLMNPQRSTVWXZ'\n",
    "    everything = uppercase + lowercase + digits + special\n",
    "    \n",
    "    # Remove any disallowed characters such as the always-confusing 0/O\n",
    "    for char in disallow:\n",
    "        uppercase = uppercase.replace(char, '')\n",
    "        lowercase = lowercase.replace(char, '')\n",
    "        digits = digits.replace(char, '')\n",
    "        upperdigits = upperdigits.replace(char, '')\n",
    "        lowerdigits = lowerdigits.replace(char, '')\n",
    "        vowels = vowels.replace(char, '')\n",
    "        uppervowels = uppervowels.replace(char, '')\n",
    "        consonants = consonants.replace(char, '')\n",
    "        upperconsonants = upperconsonants.replace(char, '')\n",
    "        everything = everything.replace(char, '')\n",
    "    \n",
    "    escape = 0\n",
    "    output = ''\n",
    "    \n",
    "    for option in pattern:\n",
    "        if escape == 1:\n",
    "            output += option\n",
    "            escape = 0\n",
    "        elif option == 'X':\n",
    "            output += random.choice(uppercase)\n",
    "        elif option == 'x':\n",
    "            output += random.choice(lowercase)\n",
    "        elif option == '9':\n",
    "            output += random.choice(digits)\n",
    "        elif option == 'A':\n",
    "            output += random.choice(upperdigits)\n",
    "        elif option == 'a':\n",
    "            output += random.choice(lowerdigits)\n",
    "        elif option == '#':\n",
    "            output += random.choice(special)\n",
    "        elif option == 'v':\n",
    "            output += random.choice(vowels)\n",
    "        elif option == 'V':\n",
    "            output += random.choice(uppervowels)\n",
    "        elif option == 'c':\n",
    "            output += random.choice(consonants)\n",
    "        elif option == 'C':\n",
    "            output += random.choice(upperconsonants)\n",
    "        elif option == '?':\n",
    "            output += random.choice(everything)\n",
    "        elif option == '-':\n",
    "            output += '-'\n",
    "        elif option == '/':\n",
    "            escape = 1\n",
    "        else:\n",
    "            output += option\n",
    "    return output\n",
    "\n",
    "print(generate('Xx9A-a#vV-cC?/9/C-1234'))"
   ]
  },
  {
   "cell_type": "code",
   "execution_count": 2,
   "metadata": {
    "collapsed": true
   },
   "outputs": [],
   "source": [
    "def save(items, path='codes.csv'):\n",
    "    '''\n",
    "    Save an iterable to a csv\n",
    "    '''\n",
    "    data = {'codes': items}\n",
    "    df = pd.DataFrame(data, columns = ['codes'])\n",
    "    df.to_csv('codes.csv')"
   ]
  },
  {
   "cell_type": "code",
   "execution_count": 3,
   "metadata": {
    "collapsed": true
   },
   "outputs": [],
   "source": [
    "def generateAndSave(pattern, disallow='O0ILil', quantity='100'):\n",
    "    '''\n",
    "    Generate many unique codes and save them to a file.\n",
    "    '''\n",
    "    \n",
    "    # Generate codes, sort them, strip out duplicates\n",
    "    file = [generate(pattern, disallow) for i in range(quantity)]\n",
    "    file.sort()\n",
    "    file = [x for ind, x in enumerate(file) if ind < len(file)-1 and x != file[ind+1]]\n",
    "       \n",
    "    # Generate the last few codes if we had to remove any duplicates\n",
    "    i = len(file)\n",
    "    while i < quantity:\n",
    "        code = generate(pattern, disallow)\n",
    "        if code not in file:\n",
    "            file.append(code)\n",
    "            i += 1\n",
    "    \n",
    "    # If we're using a subset of the codes, we might not want them\n",
    "    # to share several characters at the start. TODO: make optional\n",
    "    random.shuffle(file)\n",
    "    \n",
    "    save(file)\n",
    "    print('File saved!')"
   ]
  },
  {
   "cell_type": "code",
   "execution_count": 4,
   "metadata": {
    "scrolled": false
   },
   "outputs": [
    {
     "name": "stdout",
     "output_type": "stream",
     "text": [
      "File saved!\n"
     ]
    }
   ],
   "source": [
    "generateAndSave('Xx9A-a#vV-cC?/9/C-1234', quantity=100)"
   ]
  },
  {
   "cell_type": "code",
   "execution_count": 5,
   "metadata": {
    "collapsed": true
   },
   "outputs": [],
   "source": [
    "def validate(code, pattern, disallow='O0ILil'):\n",
    "    '''\n",
    "    Given a code and the rules for code generation, determine whether the code is valid.\n",
    "    TODO: Let this loop through a list of codes without generating the regex over and over.\n",
    "    '''\n",
    "    \n",
    "    escape = 0\n",
    "    regex = ''\n",
    "    special = '.^$*+?{}[]\\|()'\n",
    "    \n",
    "    # Check for disallowed characters here rather than make the regex crazy\n",
    "    for char in disallow:\n",
    "        if char in code:\n",
    "            print(\"Disallowed character!\")\n",
    "            return False\n",
    "    \n",
    "    # This pretty much repeats the logic from generate, but generates a regular expresison.\n",
    "    for char in pattern:\n",
    "        if char in special and not '?':\n",
    "            regex += '\\\\'\n",
    "        \n",
    "        if escape == 1:\n",
    "            regex += char\n",
    "            escape = 0\n",
    "        elif char == 'X':\n",
    "            regex += '[A-Z]'\n",
    "        elif char == 'x':\n",
    "            regex += '[a-z]'\n",
    "        elif char == '9':\n",
    "            regex += '[0-9]'\n",
    "        elif char == 'A':\n",
    "            regex += '[A-Z0-9]'\n",
    "        elif char == 'a':\n",
    "            regex += '[a-z0-9]'\n",
    "        elif char == '#':\n",
    "            regex += '[@#\\$%\\^&\\*]'\n",
    "        elif char == 'v':\n",
    "            regex += '[aeiou]'\n",
    "        elif char == 'V':\n",
    "            regex += '[AEIOU]'\n",
    "        elif char == 'c':\n",
    "            regex += '[bcdfghjklmnpqrstvwxz]'\n",
    "        elif char == 'C':\n",
    "            regex += '[BCDFGHJKLMNPQRSTVWXZ]'\n",
    "        elif char == '?':\n",
    "            regex += '\\S'\n",
    "        elif char == '/':\n",
    "            escape = 1\n",
    "        else:\n",
    "            regex += char\n",
    "    \n",
    "    print('Code: %s' % code)\n",
    "    print('Pattern: %s' % pattern)\n",
    "    print('Regex: %s' % regex)\n",
    "    regex = re.compile(regex)\n",
    "    match = regex.match(code)\n",
    "    \n",
    "    if match: \n",
    "        print(\"Match!\")\n",
    "        return True \n",
    "    else: \n",
    "        print(\"No Match\")\n",
    "        return False"
   ]
  },
  {
   "cell_type": "code",
   "execution_count": 6,
   "metadata": {},
   "outputs": [
    {
     "name": "stdout",
     "output_type": "stream",
     "text": [
      "Code: Yw83-n&aE-mZf9C-1234\n",
      "Pattern: Xx9A-a#vV-cC?/9/C-1234\n",
      "Regex: [A-Z][a-z][0-9][A-Z0-9]-[a-z0-9][@#\\$%\\^&\\*][aeiou][AEIOU]-[bcdfghjklmnpqrstvwxz][BCDFGHJKLMNPQRSTVWXZ]\\S9C-1234\n",
      "Match!\n",
      "Code: Yw83-n&aE-mZf9C-1234\n",
      "Pattern: Xx9A-a#vV-cC?/9/C-5678\n",
      "Regex: [A-Z][a-z][0-9][A-Z0-9]-[a-z0-9][@#\\$%\\^&\\*][aeiou][AEIOU]-[bcdfghjklmnpqrstvwxz][BCDFGHJKLMNPQRSTVWXZ]\\S9C-5678\n",
      "No Match\n"
     ]
    },
    {
     "data": {
      "text/plain": [
       "False"
      ]
     },
     "execution_count": 6,
     "metadata": {},
     "output_type": "execute_result"
    }
   ],
   "source": [
    "pattern = 'Xx9A-a#vV-cC?/9/C-1234'\n",
    "code = generate(pattern)\n",
    "\n",
    "pattern2 = 'Xx9A-a#vV-cC?/9/C-5678'\n",
    "\n",
    "validate(code, pattern)\n",
    "validate(code, pattern2)"
   ]
  },
  {
   "cell_type": "code",
   "execution_count": null,
   "metadata": {
    "collapsed": true
   },
   "outputs": [],
   "source": []
  }
 ],
 "metadata": {
  "kernelspec": {
   "display_name": "Python 3",
   "language": "python",
   "name": "python3"
  },
  "language_info": {
   "codemirror_mode": {
    "name": "ipython",
    "version": 3
   },
   "file_extension": ".py",
   "mimetype": "text/x-python",
   "name": "python",
   "nbconvert_exporter": "python",
   "pygments_lexer": "ipython3",
   "version": "3.6.2"
  }
 },
 "nbformat": 4,
 "nbformat_minor": 2
}
