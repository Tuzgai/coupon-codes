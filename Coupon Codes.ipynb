{
 "cells": [
  {
   "cell_type": "markdown",
   "metadata": {},
   "source": [
    "# Coupon Code Generator\n",
    "\n",
    "We're implementing a coupon code redemption system at work. Since I was in a hurry I purchased a block of codes from a commecial service, but I thought recreating it would be a fun programming exercise."
   ]
  },
  {
   "cell_type": "code",
   "execution_count": 3,
   "metadata": {
    "scrolled": true
   },
   "outputs": [
    {
     "name": "stdout",
     "output_type": "stream",
     "text": [
      "Fv43-f&aU-xKz9C-1234\n"
     ]
    }
   ],
   "source": [
    "import string\n",
    "import random\n",
    "import csv\n",
    "\n",
    "def generate(pattern, disallow='O0ILil'):\n",
    "    '''\n",
    "    Generate a coupon code based on a given pattern.\n",
    "    Pattern is generated character-by-character so we can\n",
    "    extend the pattern options fairly easily.\n",
    "    X = Uppercase (A, B, C, ...)\n",
    "    x = Lowercase (a, b, c, ...)\n",
    "    9 = Digits (0, 1, 2, ...)\n",
    "    A = Uppercase + Digits (A, B, .. + 0, 1 ..)\n",
    "    a = Lowercase + Digits (a, b, .. + 0, 1 ..)\n",
    "    # = Special characters ($, %, &, ...)\n",
    "    v = Vowels (a, e, i, ...)\n",
    "    V = Uppercase Voels (A, E, I, ...)\n",
    "    c = Consonants (b, c, d, ...)\n",
    "    C = Uppercase Consonants (B, C, D, ...)\n",
    "    ? = Random from all characters above\n",
    "    - = - \n",
    "    / = Escape character \n",
    "    Any character not on this list will be used as-is\n",
    "    '''\n",
    "    uppercase = string.ascii_uppercase\n",
    "    lowercase = string.ascii_lowercase\n",
    "    digits = ''.join(map(str, [i for i in range(10)]))\n",
    "    upperdigits = uppercase + digits\n",
    "    lowerdigits = lowercase + digits\n",
    "    special = '@#$%^&*'\n",
    "    vowels = 'aeiou'\n",
    "    uppervowels = 'AEIOU'\n",
    "    consonants = 'bcdfghjklmnpqrstvwxz'\n",
    "    upperconsonants = 'BCDFGHJKLMNPQRSTVWXZ'\n",
    "    everything = uppercase + lowercase + digits + special\n",
    "    \n",
    "    # Remove any disallowed characters such as the always-confusing 0/O\n",
    "    for char in disallow:\n",
    "        uppercase = uppercase.replace(char, '')\n",
    "        lowercase = lowercase.replace(char, '')\n",
    "        digits = digits.replace(char, '')\n",
    "        upperdigits = upperdigits.replace(char, '')\n",
    "        lowerdigits = lowerdigits.replace(char, '')\n",
    "        vowels = vowels.replace(char, '')\n",
    "        uppervowels = uppervowels.replace(char, '')\n",
    "        consonants = consonants.replace(char, '')\n",
    "        upperconsonants = upperconsonants.replace(char, '')\n",
    "        everything = everything.replace(char, '')\n",
    "    \n",
    "    escape = 0\n",
    "    output = ''\n",
    "    \n",
    "    for option in pattern:\n",
    "        if escape == 1:\n",
    "            output += option\n",
    "            escape = 0\n",
    "        elif option == 'X':\n",
    "            output += random.choice(uppercase)\n",
    "        elif option == 'x':\n",
    "            output += random.choice(lowercase)\n",
    "        elif option == '9':\n",
    "            output += random.choice(digits)\n",
    "        elif option == 'A':\n",
    "            output += random.choice(upperdigits)\n",
    "        elif option == 'a':\n",
    "            output += random.choice(lowerdigits)\n",
    "        elif option == '#':\n",
    "            output += random.choice(special)\n",
    "        elif option == 'v':\n",
    "            output += random.choice(vowels)\n",
    "        elif option == 'V':\n",
    "            output += random.choice(uppervowels)\n",
    "        elif option == 'c':\n",
    "            output += random.choice(consonants)\n",
    "        elif option == 'C':\n",
    "            output += random.choice(upperconsonants)\n",
    "        elif option == '?':\n",
    "            output += random.choice(everything)\n",
    "        elif option == '-':\n",
    "            output += '-'\n",
    "        elif option == '/':\n",
    "            escape = 1\n",
    "        else:\n",
    "            output += option\n",
    "    return output\n",
    "\n",
    "print(generate('Xx9A-a#vV-cC?/9/C-1234'))"
   ]
  },
  {
   "cell_type": "code",
   "execution_count": 50,
   "metadata": {
    "collapsed": true
   },
   "outputs": [],
   "source": [
    "def save(items, path='codes.csv'):\n",
    "    '''Save an iterable to a csv'''\n",
    "    with open(path, 'w') as csvfile:\n",
    "        writer = csv.writer(csvfile, lineterminator = '\\n')\n",
    "        for row in items:\n",
    "            writer.writerow([row])"
   ]
  },
  {
   "cell_type": "code",
   "execution_count": 62,
   "metadata": {},
   "outputs": [],
   "source": [
    "def generateAndSave(pattern, disallow='O0ILil', quantity='100'):\n",
    "    '''\n",
    "    Generate many unique codes and save them to a file.\n",
    "    Note that this is not an efficient solution, every new code\n",
    "    is checked to ensure uniqueness, I believe this makes it O(n^2).\n",
    "    '''\n",
    "    file = []\n",
    "    \n",
    "    for i in range(quantity):\n",
    "        code = generate(pattern, disallow)\n",
    "        if code in file:\n",
    "            print('Duplicate found!')\n",
    "        else:\n",
    "            file.append(code)\n",
    "        if i % 10000 == 0:\n",
    "            print('Codes complete: %s' % i)\n",
    "    \n",
    "    save(file)\n",
    "    print('File saved')"
   ]
  },
  {
   "cell_type": "code",
   "execution_count": 65,
   "metadata": {
    "scrolled": false
   },
   "outputs": [
    {
     "name": "stdout",
     "output_type": "stream",
     "text": [
      "Codes complete: 0\n",
      "Codes complete: 10000\n",
      "Codes complete: 20000\n",
      "Codes complete: 30000\n",
      "Codes complete: 40000\n",
      "File saved\n"
     ]
    }
   ],
   "source": [
    "generateAndSave('Xx9A-a#vV-cC?/9/C-1234', quantity=50000)"
   ]
  },
  {
   "cell_type": "code",
   "execution_count": null,
   "metadata": {
    "collapsed": true
   },
   "outputs": [],
   "source": []
  }
 ],
 "metadata": {
  "kernelspec": {
   "display_name": "Python 3",
   "language": "python",
   "name": "python3"
  },
  "language_info": {
   "codemirror_mode": {
    "name": "ipython",
    "version": 3
   },
   "file_extension": ".py",
   "mimetype": "text/x-python",
   "name": "python",
   "nbconvert_exporter": "python",
   "pygments_lexer": "ipython3",
   "version": "3.6.2"
  }
 },
 "nbformat": 4,
 "nbformat_minor": 2
}
